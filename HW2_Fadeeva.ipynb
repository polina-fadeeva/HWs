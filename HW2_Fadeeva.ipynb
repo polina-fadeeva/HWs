{
  "nbformat": 4,
  "nbformat_minor": 0,
  "metadata": {
    "colab": {
      "provenance": [],
      "authorship_tag": "ABX9TyNr8qSiiZtB2DRhrz1Zg2MT"
    },
    "kernelspec": {
      "name": "python3",
      "display_name": "Python 3"
    },
    "language_info": {
      "name": "python"
    }
  },
  "cells": [
    {
      "cell_type": "code",
      "execution_count": 1,
      "metadata": {
        "id": "ptAQauEyLWvS",
        "colab": {
          "base_uri": "https://localhost:8080/"
        },
        "outputId": "e8a3cdc0-1f06-4ad4-9d80-234b86a0c76d"
      },
      "outputs": [
        {
          "output_type": "stream",
          "name": "stdout",
          "text": [
            "Collecting youtube-dl\n",
            "  Downloading youtube_dl-2021.12.17-py2.py3-none-any.whl (1.9 MB)\n",
            "\u001b[2K     \u001b[90m━━━━━━━━━━━━━━━━━━━━━━━━━━━━━━━━━━━━━━━━\u001b[0m \u001b[32m1.9/1.9 MB\u001b[0m \u001b[31m11.7 MB/s\u001b[0m eta \u001b[36m0:00:00\u001b[0m\n",
            "\u001b[?25hInstalling collected packages: youtube-dl\n",
            "Successfully installed youtube-dl-2021.12.17\n",
            "Collecting git+https://github.com/ytdl-org/youtube-dl.git\n",
            "  Cloning https://github.com/ytdl-org/youtube-dl.git to /tmp/pip-req-build-88uq9x6b\n",
            "  Running command git clone --filter=blob:none --quiet https://github.com/ytdl-org/youtube-dl.git /tmp/pip-req-build-88uq9x6b\n",
            "  Resolved https://github.com/ytdl-org/youtube-dl.git to commit be008e657d79832642e2158557c899249c9e31cd\n",
            "  Preparing metadata (setup.py) ... \u001b[?25l\u001b[?25hdone\n",
            "Building wheels for collected packages: youtube-dl\n",
            "  Building wheel for youtube-dl (setup.py) ... \u001b[?25l\u001b[?25hdone\n",
            "  Created wheel for youtube-dl: filename=youtube_dl-2021.12.17-py2.py3-none-any.whl size=1944011 sha256=0e08156bdd7c703f15a09ebb09d844617dabe00a9069d9025c33c9ce4f138c50\n",
            "  Stored in directory: /tmp/pip-ephem-wheel-cache-fe5d94yg/wheels/64/8e/40/866e846163e3e4859bbe820ff8847ec97f4320864f1525aa9a\n",
            "Successfully built youtube-dl\n",
            "Installing collected packages: youtube-dl\n",
            "  Attempting uninstall: youtube-dl\n",
            "    Found existing installation: youtube-dl 2021.12.17\n",
            "    Uninstalling youtube-dl-2021.12.17:\n",
            "      Successfully uninstalled youtube-dl-2021.12.17\n",
            "Successfully installed youtube-dl-2021.12.17\n",
            "Collecting git+https://github.com/openai/whisper.git\n",
            "  Cloning https://github.com/openai/whisper.git to /tmp/pip-req-build-4a5w0ava\n",
            "  Running command git clone --filter=blob:none --quiet https://github.com/openai/whisper.git /tmp/pip-req-build-4a5w0ava\n",
            "  Resolved https://github.com/openai/whisper.git to commit ba3f3cd54b0e5b8ce1ab3de13e32122d0d5f98ab\n",
            "  Installing build dependencies ... \u001b[?25l\u001b[?25hdone\n",
            "  Getting requirements to build wheel ... \u001b[?25l\u001b[?25hdone\n",
            "  Preparing metadata (pyproject.toml) ... \u001b[?25l\u001b[?25hdone\n",
            "Requirement already satisfied: numba in /usr/local/lib/python3.10/dist-packages (from openai-whisper==20231117) (0.58.1)\n",
            "Requirement already satisfied: numpy in /usr/local/lib/python3.10/dist-packages (from openai-whisper==20231117) (1.23.5)\n",
            "Requirement already satisfied: torch in /usr/local/lib/python3.10/dist-packages (from openai-whisper==20231117) (2.1.0+cu121)\n",
            "Requirement already satisfied: tqdm in /usr/local/lib/python3.10/dist-packages (from openai-whisper==20231117) (4.66.1)\n",
            "Requirement already satisfied: more-itertools in /usr/local/lib/python3.10/dist-packages (from openai-whisper==20231117) (10.1.0)\n",
            "Collecting tiktoken (from openai-whisper==20231117)\n",
            "  Downloading tiktoken-0.5.2-cp310-cp310-manylinux_2_17_x86_64.manylinux2014_x86_64.whl (2.0 MB)\n",
            "\u001b[2K     \u001b[90m━━━━━━━━━━━━━━━━━━━━━━━━━━━━━━━━━━━━━━━━\u001b[0m \u001b[32m2.0/2.0 MB\u001b[0m \u001b[31m24.7 MB/s\u001b[0m eta \u001b[36m0:00:00\u001b[0m\n",
            "\u001b[?25hRequirement already satisfied: triton<3,>=2.0.0 in /usr/local/lib/python3.10/dist-packages (from openai-whisper==20231117) (2.1.0)\n",
            "Requirement already satisfied: filelock in /usr/local/lib/python3.10/dist-packages (from triton<3,>=2.0.0->openai-whisper==20231117) (3.13.1)\n",
            "Requirement already satisfied: llvmlite<0.42,>=0.41.0dev0 in /usr/local/lib/python3.10/dist-packages (from numba->openai-whisper==20231117) (0.41.1)\n",
            "Requirement already satisfied: regex>=2022.1.18 in /usr/local/lib/python3.10/dist-packages (from tiktoken->openai-whisper==20231117) (2023.6.3)\n",
            "Requirement already satisfied: requests>=2.26.0 in /usr/local/lib/python3.10/dist-packages (from tiktoken->openai-whisper==20231117) (2.31.0)\n",
            "Requirement already satisfied: typing-extensions in /usr/local/lib/python3.10/dist-packages (from torch->openai-whisper==20231117) (4.5.0)\n",
            "Requirement already satisfied: sympy in /usr/local/lib/python3.10/dist-packages (from torch->openai-whisper==20231117) (1.12)\n",
            "Requirement already satisfied: networkx in /usr/local/lib/python3.10/dist-packages (from torch->openai-whisper==20231117) (3.2.1)\n",
            "Requirement already satisfied: jinja2 in /usr/local/lib/python3.10/dist-packages (from torch->openai-whisper==20231117) (3.1.2)\n",
            "Requirement already satisfied: fsspec in /usr/local/lib/python3.10/dist-packages (from torch->openai-whisper==20231117) (2023.6.0)\n",
            "Requirement already satisfied: charset-normalizer<4,>=2 in /usr/local/lib/python3.10/dist-packages (from requests>=2.26.0->tiktoken->openai-whisper==20231117) (3.3.2)\n",
            "Requirement already satisfied: idna<4,>=2.5 in /usr/local/lib/python3.10/dist-packages (from requests>=2.26.0->tiktoken->openai-whisper==20231117) (3.6)\n",
            "Requirement already satisfied: urllib3<3,>=1.21.1 in /usr/local/lib/python3.10/dist-packages (from requests>=2.26.0->tiktoken->openai-whisper==20231117) (2.0.7)\n",
            "Requirement already satisfied: certifi>=2017.4.17 in /usr/local/lib/python3.10/dist-packages (from requests>=2.26.0->tiktoken->openai-whisper==20231117) (2023.11.17)\n",
            "Requirement already satisfied: MarkupSafe>=2.0 in /usr/local/lib/python3.10/dist-packages (from jinja2->torch->openai-whisper==20231117) (2.1.3)\n",
            "Requirement already satisfied: mpmath>=0.19 in /usr/local/lib/python3.10/dist-packages (from sympy->torch->openai-whisper==20231117) (1.3.0)\n",
            "Building wheels for collected packages: openai-whisper\n",
            "  Building wheel for openai-whisper (pyproject.toml) ... \u001b[?25l\u001b[?25hdone\n",
            "  Created wheel for openai-whisper: filename=openai_whisper-20231117-py3-none-any.whl size=802825 sha256=af011f5e71e296490255444e1fcc465a672d1422a02122854a589437b6e5964e\n",
            "  Stored in directory: /tmp/pip-ephem-wheel-cache-itc_p5u5/wheels/8b/6c/d0/622666868c179f156cf595c8b6f06f88bc5d80c4b31dccaa03\n",
            "Successfully built openai-whisper\n",
            "Installing collected packages: tiktoken, openai-whisper\n",
            "\u001b[31mERROR: pip's dependency resolver does not currently take into account all the packages that are installed. This behaviour is the source of the following dependency conflicts.\n",
            "llmx 0.0.15a0 requires cohere, which is not installed.\n",
            "llmx 0.0.15a0 requires openai, which is not installed.\u001b[0m\u001b[31m\n",
            "\u001b[0mSuccessfully installed openai-whisper-20231117 tiktoken-0.5.2\n",
            "Collecting jiwer\n",
            "  Downloading jiwer-3.0.3-py3-none-any.whl (21 kB)\n",
            "Requirement already satisfied: click<9.0.0,>=8.1.3 in /usr/local/lib/python3.10/dist-packages (from jiwer) (8.1.7)\n",
            "Collecting rapidfuzz<4,>=3 (from jiwer)\n",
            "  Downloading rapidfuzz-3.6.1-cp310-cp310-manylinux_2_17_x86_64.manylinux2014_x86_64.whl (3.4 MB)\n",
            "\u001b[2K     \u001b[90m━━━━━━━━━━━━━━━━━━━━━━━━━━━━━━━━━━━━━━━━\u001b[0m \u001b[32m3.4/3.4 MB\u001b[0m \u001b[31m38.8 MB/s\u001b[0m eta \u001b[36m0:00:00\u001b[0m\n",
            "\u001b[?25hInstalling collected packages: rapidfuzz, jiwer\n",
            "Successfully installed jiwer-3.0.3 rapidfuzz-3.6.1\n",
            "Collecting vosk\n",
            "  Downloading vosk-0.3.45-py3-none-manylinux_2_12_x86_64.manylinux2010_x86_64.whl (7.2 MB)\n",
            "\u001b[2K     \u001b[90m━━━━━━━━━━━━━━━━━━━━━━━━━━━━━━━━━━━━━━━━\u001b[0m \u001b[32m7.2/7.2 MB\u001b[0m \u001b[31m34.0 MB/s\u001b[0m eta \u001b[36m0:00:00\u001b[0m\n",
            "\u001b[?25hRequirement already satisfied: cffi>=1.0 in /usr/local/lib/python3.10/dist-packages (from vosk) (1.16.0)\n",
            "Requirement already satisfied: requests in /usr/local/lib/python3.10/dist-packages (from vosk) (2.31.0)\n",
            "Requirement already satisfied: tqdm in /usr/local/lib/python3.10/dist-packages (from vosk) (4.66.1)\n",
            "Collecting srt (from vosk)\n",
            "  Downloading srt-3.5.3.tar.gz (28 kB)\n",
            "  Preparing metadata (setup.py) ... \u001b[?25l\u001b[?25hdone\n",
            "Collecting websockets (from vosk)\n",
            "  Downloading websockets-12.0-cp310-cp310-manylinux_2_5_x86_64.manylinux1_x86_64.manylinux_2_17_x86_64.manylinux2014_x86_64.whl (130 kB)\n",
            "\u001b[2K     \u001b[90m━━━━━━━━━━━━━━━━━━━━━━━━━━━━━━━━━━━━━━━━\u001b[0m \u001b[32m130.2/130.2 kB\u001b[0m \u001b[31m17.7 MB/s\u001b[0m eta \u001b[36m0:00:00\u001b[0m\n",
            "\u001b[?25hRequirement already satisfied: pycparser in /usr/local/lib/python3.10/dist-packages (from cffi>=1.0->vosk) (2.21)\n",
            "Requirement already satisfied: charset-normalizer<4,>=2 in /usr/local/lib/python3.10/dist-packages (from requests->vosk) (3.3.2)\n",
            "Requirement already satisfied: idna<4,>=2.5 in /usr/local/lib/python3.10/dist-packages (from requests->vosk) (3.6)\n",
            "Requirement already satisfied: urllib3<3,>=1.21.1 in /usr/local/lib/python3.10/dist-packages (from requests->vosk) (2.0.7)\n",
            "Requirement already satisfied: certifi>=2017.4.17 in /usr/local/lib/python3.10/dist-packages (from requests->vosk) (2023.11.17)\n",
            "Building wheels for collected packages: srt\n",
            "  Building wheel for srt (setup.py) ... \u001b[?25l\u001b[?25hdone\n",
            "  Created wheel for srt: filename=srt-3.5.3-py3-none-any.whl size=22428 sha256=7e8abef85bbac855c4bcb2f9ac4b0876b6680d0c1aac734bc0e14d4a6fc5ee2c\n",
            "  Stored in directory: /root/.cache/pip/wheels/d7/31/a1/18e1e7e8bfdafd19e6803d7eb919b563dd11de380e4304e332\n",
            "Successfully built srt\n",
            "Installing collected packages: websockets, srt, vosk\n",
            "Successfully installed srt-3.5.3 vosk-0.3.45 websockets-12.0\n",
            "Collecting wget\n",
            "  Downloading wget-3.2.zip (10 kB)\n",
            "  Preparing metadata (setup.py) ... \u001b[?25l\u001b[?25hdone\n",
            "Building wheels for collected packages: wget\n",
            "  Building wheel for wget (setup.py) ... \u001b[?25l\u001b[?25hdone\n",
            "  Created wheel for wget: filename=wget-3.2-py3-none-any.whl size=9655 sha256=b56fe3169f0e5ae03a2f516839b8c5ee63f92902a76762a0193286a4b0cee399\n",
            "  Stored in directory: /root/.cache/pip/wheels/8b/f1/7f/5c94f0a7a505ca1c81cd1d9208ae2064675d97582078e6c769\n",
            "Successfully built wget\n",
            "Installing collected packages: wget\n",
            "Successfully installed wget-3.2\n",
            "Collecting SpeechRecognition\n",
            "  Downloading SpeechRecognition-3.10.1-py2.py3-none-any.whl (32.8 MB)\n",
            "\u001b[2K     \u001b[90m━━━━━━━━━━━━━━━━━━━━━━━━━━━━━━━━━━━━━━━━\u001b[0m \u001b[32m32.8/32.8 MB\u001b[0m \u001b[31m36.6 MB/s\u001b[0m eta \u001b[36m0:00:00\u001b[0m\n",
            "\u001b[?25hRequirement already satisfied: requests>=2.26.0 in /usr/local/lib/python3.10/dist-packages (from SpeechRecognition) (2.31.0)\n",
            "Requirement already satisfied: typing-extensions in /usr/local/lib/python3.10/dist-packages (from SpeechRecognition) (4.5.0)\n",
            "Requirement already satisfied: charset-normalizer<4,>=2 in /usr/local/lib/python3.10/dist-packages (from requests>=2.26.0->SpeechRecognition) (3.3.2)\n",
            "Requirement already satisfied: idna<4,>=2.5 in /usr/local/lib/python3.10/dist-packages (from requests>=2.26.0->SpeechRecognition) (3.6)\n",
            "Requirement already satisfied: urllib3<3,>=1.21.1 in /usr/local/lib/python3.10/dist-packages (from requests>=2.26.0->SpeechRecognition) (2.0.7)\n",
            "Requirement already satisfied: certifi>=2017.4.17 in /usr/local/lib/python3.10/dist-packages (from requests>=2.26.0->SpeechRecognition) (2023.11.17)\n",
            "Installing collected packages: SpeechRecognition\n",
            "Successfully installed SpeechRecognition-3.10.1\n"
          ]
        }
      ],
      "source": [
        "! pip install youtube-dl\n",
        "! pip install --upgrade --force-reinstall \"git+https://github.com/ytdl-org/youtube-dl.git\"\n",
        "! pip install git+https://github.com/openai/whisper.git\n",
        "! pip install jiwer\n",
        "from jiwer import wer\n",
        "! pip install vosk\n",
        "import whisper\n",
        "! pip install wget"
      ]
    },
    {
      "cell_type": "code",
      "source": [
        "! youtube-dl --sub-lang ru --write-auto-sub --sub-format txt --skip-download -o orig_sub https://www.youtube.com/watch?v=qG3AhP2FGeo\n",
        "! youtube-dl -x --audio-format mp3 -o deti.mp3 -- https://www.youtube.com/watch?v=qG3AhP2FGeo"
      ],
      "metadata": {
        "colab": {
          "base_uri": "https://localhost:8080/"
        },
        "id": "G_NWRai2iSCA",
        "outputId": "e20cdd3b-052c-44bd-b77d-5b4e3375d339"
      },
      "execution_count": 26,
      "outputs": [
        {
          "output_type": "stream",
          "name": "stdout",
          "text": [
            "[youtube] qG3AhP2FGeo: Downloading webpage\n",
            "\u001b[0;33mWARNING:\u001b[0m No subtitle format found matching \"txt\" for language ru, using vtt\n",
            "[info] Writing video subtitles to: orig_sub.ru.vtt\n",
            "[youtube] qG3AhP2FGeo: Downloading webpage\n",
            "[download] deti.wav has already been downloaded\n",
            "\u001b[K[download] 100% of 1.05MiB\n",
            "[ffmpeg] Correcting container in \"deti.wav\"\n",
            "[ffmpeg] Post-process file deti.wav exists, skipping\n"
          ]
        }
      ]
    },
    {
      "cell_type": "code",
      "source": [
        "orig_sub = open('orig_sub.ru.vtt', 'r')\n",
        "orig_sub = orig_sub.readlines()\n",
        "orig_sub = orig_sub[13::8]\n",
        "orig_sub = \" \".join(orig_sub)\n",
        "orig_sub = orig_sub.replace('\\n', '')"
      ],
      "metadata": {
        "id": "GQQvUGnqu3S6"
      },
      "execution_count": 3,
      "outputs": []
    },
    {
      "cell_type": "code",
      "source": [
        "! wget https://alphacephei.com/vosk/models/vosk-model-ru-0.22.zip\n",
        "! unzip vosk-model-ru-0.22.zip\n",
        "! vosk-transcriber -i deti.mp3 -o vosk_sub.txt -m vosk-model-ru-0.22/"
      ],
      "metadata": {
        "id": "85VHGLf4I-or",
        "colab": {
          "base_uri": "https://localhost:8080/"
        },
        "outputId": "78a4e288-394c-4cee-a4cd-f6a9f7132a03"
      },
      "execution_count": 37,
      "outputs": [
        {
          "output_type": "stream",
          "name": "stdout",
          "text": [
            "--2024-01-10 02:17:13--  https://alphacephei.com/vosk/models/vosk-model-ru-0.22.zip\n",
            "Resolving alphacephei.com (alphacephei.com)... 188.40.21.16, 2a01:4f8:13a:279f::2\n",
            "Connecting to alphacephei.com (alphacephei.com)|188.40.21.16|:443... connected.\n",
            "HTTP request sent, awaiting response... 200 OK\n",
            "Length: 1559419132 (1.5G) [application/zip]\n",
            "Saving to: ‘vosk-model-ru-0.22.zip.1’\n",
            "\n",
            "vosk-model-ru-0.22. 100%[===================>]   1.45G  31.2MB/s    in 49s     \n",
            "\n",
            "2024-01-10 02:18:02 (30.4 MB/s) - ‘vosk-model-ru-0.22.zip.1’ saved [1559419132/1559419132]\n",
            "\n",
            "Archive:  vosk-model-ru-0.22.zip\n",
            "replace vosk-model-ru-0.22/graph/words.txt? [y]es, [n]o, [A]ll, [N]one, [r]ename: т\n",
            "error:  invalid response [т]\n",
            "replace vosk-model-ru-0.22/graph/words.txt? [y]es, [n]o, [A]ll, [N]one, [r]ename: n\n",
            "replace vosk-model-ru-0.22/graph/phones/silence.csl? [y]es, [n]o, [A]ll, [N]one, [r]ename: n\n",
            "replace vosk-model-ru-0.22/graph/phones/align_lexicon.txt? [y]es, [n]o, [A]ll, [N]one, [r]ename: n\n",
            "replace vosk-model-ru-0.22/graph/phones/word_boundary.txt? [y]es, [n]o, [A]ll, [N]one, [r]ename: n\n",
            "replace vosk-model-ru-0.22/graph/phones/optional_silence.csl? [y]es, [n]o, [A]ll, [N]one, [r]ename: n\n",
            "replace vosk-model-ru-0.22/graph/phones/optional_silence.txt? [y]es, [n]o, [A]ll, [N]one, [r]ename: n\n",
            "replace vosk-model-ru-0.22/graph/phones/disambig.int? [y]es, [n]o, [A]ll, [N]one, [r]ename: n\n",
            "replace vosk-model-ru-0.22/graph/phones/disambig.txt? [y]es, [n]o, [A]ll, [N]one, [r]ename: n\n",
            "replace vosk-model-ru-0.22/graph/phones/align_lexicon.int? [y]es, [n]o, [A]ll, [N]one, [r]ename: n\n",
            "replace vosk-model-ru-0.22/graph/phones/word_boundary.int? [y]es, [n]o, [A]ll, [N]one, [r]ename: n\n",
            "replace vosk-model-ru-0.22/graph/phones/optional_silence.int? [y]es, [n]o, [A]ll, [N]one, [r]ename: n\n",
            "replace vosk-model-ru-0.22/graph/phones.txt? [y]es, [n]o, [A]ll, [N]one, [r]ename: n\n",
            "replace vosk-model-ru-0.22/graph/HCLG.fst? [y]es, [n]o, [A]ll, [N]one, [r]ename: n\n",
            "replace vosk-model-ru-0.22/graph/num_pdfs? [y]es, [n]o, [A]ll, [N]one, [r]ename: n\n",
            "replace vosk-model-ru-0.22/graph/disambig_tid.int? [y]es, [n]o, [A]ll, [N]one, [r]ename: n\n",
            "n\n",
            "replace vosk-model-ru-0.22/decode.py? [y]es, [n]o, [A]ll, [N]one, [r]ename: replace vosk-model-ru-0.22/am/frame_subsampling_factor? [y]es, [n]o, [A]ll, [N]one, [r]ename: n\n",
            "replace vosk-model-ru-0.22/am/tree? [y]es, [n]o, [A]ll, [N]one, [r]ename: n\n",
            "replace vosk-model-ru-0.22/am/final.mdl? [y]es, [n]o, [A]ll, [N]one, [r]ename: n\n",
            "replace vosk-model-ru-0.22/extra/sova_devices.ref? [y]es, [n]o, [A]ll, [N]one, [r]ename: n\n",
            "replace vosk-model-ru-0.22/extra/silero_youtube.ref? [y]es, [n]o, [A]ll, [N]one, [r]ename: n\n",
            "replace vosk-model-ru-0.22/extra/golos_crowd.ref? [y]es, [n]o, [A]ll, [N]one, [r]ename: n\n",
            "replace vosk-model-ru-0.22/extra/README? [y]es, [n]o, [A]ll, [N]one, [r]ename: n\n",
            "replace vosk-model-ru-0.22/extra/silero_books.ref? [y]es, [n]o, [A]ll, [N]one, [r]ename: n\n",
            "replace vosk-model-ru-0.22/extra/silero_calls.ref? [y]es, [n]o, [A]ll, [N]one, [r]ename: nn\n",
            "replace vosk-model-ru-0.22/rnnlm/oov.txt? [y]es, [n]o, [A]ll, [N]one, [r]ename: \n",
            "error:  invalid response [{ENTER}]\n",
            "replace vosk-model-ru-0.22/rnnlm/oov.txt? [y]es, [n]o, [A]ll, [N]one, [r]ename: nn\n",
            "replace vosk-model-ru-0.22/rnnlm/special_symbol_opts.conf? [y]es, [n]o, [A]ll, [N]one, [r]ename: \n",
            "error:  invalid response [{ENTER}]\n",
            "replace vosk-model-ru-0.22/rnnlm/special_symbol_opts.conf? [y]es, [n]o, [A]ll, [N]one, [r]ename: n\n",
            "replace vosk-model-ru-0.22/rnnlm/features.txt? [y]es, [n]o, [A]ll, [N]one, [r]ename: n\n",
            "replace vosk-model-ru-0.22/rnnlm/final.raw? [y]es, [n]o, [A]ll, [N]one, [r]ename: n\n",
            "replace vosk-model-ru-0.22/rnnlm/special_symbol_opts.txt? [y]es, [n]o, [A]ll, [N]one, [r]ename: n\n",
            "replace vosk-model-ru-0.22/rnnlm/feat_embedding.final.mat? [y]es, [n]o, [A]ll, [N]one, [r]ename: n\n",
            "replace vosk-model-ru-0.22/rnnlm/word_feats.txt? [y]es, [n]o, [A]ll, [N]one, [r]ename: n\n",
            "replace vosk-model-ru-0.22/rnnlm/info.txt? [y]es, [n]o, [A]ll, [N]one, [r]ename: n\n",
            "replace vosk-model-ru-0.22/decoder-test.wav? [y]es, [n]o, [A]ll, [N]one, [r]ename: n\n",
            "replace vosk-model-ru-0.22/README? [y]es, [n]o, [A]ll, [N]one, [r]ename: n\n",
            "replace vosk-model-ru-0.22/rescore/G.fst? [y]es, [n]o, [A]ll, [N]one, [r]ename: n\n",
            "replace vosk-model-ru-0.22/rescore/G.carpa? [y]es, [n]o, [A]ll, [N]one, [r]ename: n\n",
            "replace vosk-model-ru-0.22/conf/model.conf? [y]es, [n]o, [A]ll, [N]one, [r]ename: n\n",
            "replace vosk-model-ru-0.22/conf/ivector_extractor.conf? [y]es, [n]o, [A]ll, [N]one, [r]ename: n\n",
            "replace vosk-model-ru-0.22/conf/mfcc.conf? [y]es, [n]o, [A]ll, [N]one, [r]ename: n\n",
            "replace vosk-model-ru-0.22/conf/online.conf? [y]es, [n]o, [A]ll, [N]one, [r]ename: n\n",
            "replace vosk-model-ru-0.22/ivector/final.dubm? [y]es, [n]o, [A]ll, [N]one, [r]ename: n\n",
            "replace vosk-model-ru-0.22/ivector/global_cmvn.stats? [y]es, [n]o, [A]ll, [N]one, [r]ename: n\n",
            "replace vosk-model-ru-0.22/ivector/final.ie? [y]es, [n]o, [A]ll, [N]one, [r]ename: n\n",
            "replace vosk-model-ru-0.22/ivector/final.mat? [y]es, [n]o, [A]ll, [N]one, [r]ename: n\n",
            "replace vosk-model-ru-0.22/ivector/splice.conf? [y]es, [n]o, [A]ll, [N]one, [r]ename: n\n",
            "replace vosk-model-ru-0.22/ivector/online_cmvn.conf? [y]es, [n]o, [A]ll, [N]one, [r]ename: n\n",
            "n\n",
            "LOG (VoskAPI:ReadDataFiles():model.cc:213) Decoding params beam=13 max-active=7000 lattice-beam=6\n",
            "LOG (VoskAPI:ReadDataFiles():model.cc:216) Silence phones 1:2:3:4:5:6:7:8:9:10\n",
            "n\n",
            "n\n",
            "n\n",
            "LOG (VoskAPI:RemoveOrphanNodes():nnet-nnet.cc:948) Removed 1 orphan nodes.\n",
            "LOG (VoskAPI:RemoveOrphanComponents():nnet-nnet.cc:847) Removing 2 orphan components.\n",
            "LOG (VoskAPI:Collapse():nnet-utils.cc:1488) Added 1 components, removed 2\n",
            "LOG (VoskAPI:ReadDataFiles():model.cc:248) Loading i-vector extractor from vosk-model-ru-0.22//ivector/final.ie\n",
            "LOG (VoskAPI:ComputeDerivedVars():ivector-extractor.cc:183) Computing derived variables for iVector extractor\n",
            "LOG (VoskAPI:ComputeDerivedVars():ivector-extractor.cc:204) Done.\n",
            "LOG (VoskAPI:ReadDataFiles():model.cc:279) Loading HCLG from vosk-model-ru-0.22//graph/HCLG.fst\n",
            "LOG (VoskAPI:ReadDataFiles():model.cc:297) Loading words from vosk-model-ru-0.22//graph/words.txt\n",
            "LOG (VoskAPI:ReadDataFiles():model.cc:308) Loading winfo vosk-model-ru-0.22//graph/phones/word_boundary.int\n",
            "LOG (VoskAPI:ReadDataFiles():model.cc:315) Loading subtract G.fst model from vosk-model-ru-0.22//rescore/G.fst\n",
            "LOG (VoskAPI:ReadDataFiles():model.cc:317) Loading CARPA model from vosk-model-ru-0.22//rescore/G.carpa\n",
            "LOG (VoskAPI:ReadDataFiles():model.cc:323) Loading RNNLM model from vosk-model-ru-0.22//rnnlm/final.raw\n",
            "^C\n"
          ]
        }
      ]
    },
    {
      "cell_type": "code",
      "source": [
        "vosk_sub = open('vosk_sub.txt', 'r')\n",
        "for line in vosk_sub:\n",
        "  vosk_sub = \" \".join(vosk_sub)"
      ],
      "metadata": {
        "id": "TFzmLsCXVL-x",
        "colab": {
          "base_uri": "https://localhost:8080/",
          "height": 211
        },
        "outputId": "403b3615-dc4f-4390-dae1-b86e4c615953"
      },
      "execution_count": 39,
      "outputs": [
        {
          "output_type": "error",
          "ename": "FileNotFoundError",
          "evalue": "[Errno 2] No such file or directory: 'vosk_sub.txt'",
          "traceback": [
            "\u001b[0;31m---------------------------------------------------------------------------\u001b[0m",
            "\u001b[0;31mFileNotFoundError\u001b[0m                         Traceback (most recent call last)",
            "\u001b[0;32m<ipython-input-39-0311487048e6>\u001b[0m in \u001b[0;36m<cell line: 1>\u001b[0;34m()\u001b[0m\n\u001b[0;32m----> 1\u001b[0;31m \u001b[0mvosk_sub\u001b[0m \u001b[0;34m=\u001b[0m \u001b[0mopen\u001b[0m\u001b[0;34m(\u001b[0m\u001b[0;34m'vosk_sub.txt'\u001b[0m\u001b[0;34m,\u001b[0m \u001b[0;34m'r'\u001b[0m\u001b[0;34m)\u001b[0m\u001b[0;34m\u001b[0m\u001b[0;34m\u001b[0m\u001b[0m\n\u001b[0m\u001b[1;32m      2\u001b[0m \u001b[0;32mfor\u001b[0m \u001b[0mline\u001b[0m \u001b[0;32min\u001b[0m \u001b[0mvosk_sub\u001b[0m\u001b[0;34m:\u001b[0m\u001b[0;34m\u001b[0m\u001b[0;34m\u001b[0m\u001b[0m\n\u001b[1;32m      3\u001b[0m   \u001b[0mvosk_sub\u001b[0m \u001b[0;34m=\u001b[0m \u001b[0;34m\" \"\u001b[0m\u001b[0;34m.\u001b[0m\u001b[0mjoin\u001b[0m\u001b[0;34m(\u001b[0m\u001b[0mvosk_sub\u001b[0m\u001b[0;34m)\u001b[0m\u001b[0;34m\u001b[0m\u001b[0;34m\u001b[0m\u001b[0m\n",
            "\u001b[0;31mFileNotFoundError\u001b[0m: [Errno 2] No such file or directory: 'vosk_sub.txt'"
          ]
        }
      ]
    },
    {
      "cell_type": "code",
      "source": [
        "model = whisper.load_model(\"base\")\n",
        "result = model.transcribe(\"deti.mp3\")\n",
        "whisper_sub = result[\"text\"]"
      ],
      "metadata": {
        "colab": {
          "base_uri": "https://localhost:8080/"
        },
        "id": "bqSnl2p_QD-9",
        "outputId": "addb4aae-fb88-40c0-91cc-2a19224a9af8"
      },
      "execution_count": 36,
      "outputs": [
        {
          "output_type": "stream",
          "name": "stderr",
          "text": [
            "/usr/local/lib/python3.10/dist-packages/whisper/transcribe.py:126: UserWarning: FP16 is not supported on CPU; using FP32 instead\n",
            "  warnings.warn(\"FP16 is not supported on CPU; using FP32 instead\")\n"
          ]
        }
      ]
    },
    {
      "cell_type": "code",
      "source": [
        "! pip install SpeechRecognition\n",
        "import speech_recognition as sr"
      ],
      "metadata": {
        "colab": {
          "base_uri": "https://localhost:8080/"
        },
        "id": "PYlnGNYp_-t3",
        "outputId": "8cd26cb5-0152-442f-e523-bcce73e3daae"
      },
      "execution_count": 19,
      "outputs": [
        {
          "output_type": "stream",
          "name": "stdout",
          "text": [
            "Requirement already satisfied: SpeechRecognition in /usr/local/lib/python3.10/dist-packages (3.10.1)\n",
            "Requirement already satisfied: requests>=2.26.0 in /usr/local/lib/python3.10/dist-packages (from SpeechRecognition) (2.31.0)\n",
            "Requirement already satisfied: typing-extensions in /usr/local/lib/python3.10/dist-packages (from SpeechRecognition) (4.5.0)\n",
            "Requirement already satisfied: charset-normalizer<4,>=2 in /usr/local/lib/python3.10/dist-packages (from requests>=2.26.0->SpeechRecognition) (3.3.2)\n",
            "Requirement already satisfied: idna<4,>=2.5 in /usr/local/lib/python3.10/dist-packages (from requests>=2.26.0->SpeechRecognition) (3.6)\n",
            "Requirement already satisfied: urllib3<3,>=1.21.1 in /usr/local/lib/python3.10/dist-packages (from requests>=2.26.0->SpeechRecognition) (2.0.7)\n",
            "Requirement already satisfied: certifi>=2017.4.17 in /usr/local/lib/python3.10/dist-packages (from requests>=2.26.0->SpeechRecognition) (2023.11.17)\n"
          ]
        }
      ]
    },
    {
      "cell_type": "code",
      "source": [
        "! ffmpeg -i deti.mp3 deti.wav"
      ],
      "metadata": {
        "colab": {
          "base_uri": "https://localhost:8080/"
        },
        "id": "Tq_dhZGiJP5A",
        "outputId": "a722ac55-3f34-4eb7-a49b-5c2fe36d9355"
      },
      "execution_count": 32,
      "outputs": [
        {
          "output_type": "stream",
          "name": "stdout",
          "text": [
            "ffmpeg version 4.4.2-0ubuntu0.22.04.1 Copyright (c) 2000-2021 the FFmpeg developers\n",
            "  built with gcc 11 (Ubuntu 11.2.0-19ubuntu1)\n",
            "  configuration: --prefix=/usr --extra-version=0ubuntu0.22.04.1 --toolchain=hardened --libdir=/usr/lib/x86_64-linux-gnu --incdir=/usr/include/x86_64-linux-gnu --arch=amd64 --enable-gpl --disable-stripping --enable-gnutls --enable-ladspa --enable-libaom --enable-libass --enable-libbluray --enable-libbs2b --enable-libcaca --enable-libcdio --enable-libcodec2 --enable-libdav1d --enable-libflite --enable-libfontconfig --enable-libfreetype --enable-libfribidi --enable-libgme --enable-libgsm --enable-libjack --enable-libmp3lame --enable-libmysofa --enable-libopenjpeg --enable-libopenmpt --enable-libopus --enable-libpulse --enable-librabbitmq --enable-librubberband --enable-libshine --enable-libsnappy --enable-libsoxr --enable-libspeex --enable-libsrt --enable-libssh --enable-libtheora --enable-libtwolame --enable-libvidstab --enable-libvorbis --enable-libvpx --enable-libwebp --enable-libx265 --enable-libxml2 --enable-libxvid --enable-libzimg --enable-libzmq --enable-libzvbi --enable-lv2 --enable-omx --enable-openal --enable-opencl --enable-opengl --enable-sdl2 --enable-pocketsphinx --enable-librsvg --enable-libmfx --enable-libdc1394 --enable-libdrm --enable-libiec61883 --enable-chromaprint --enable-frei0r --enable-libx264 --enable-shared\n",
            "  libavutil      56. 70.100 / 56. 70.100\n",
            "  libavcodec     58.134.100 / 58.134.100\n",
            "  libavformat    58. 76.100 / 58. 76.100\n",
            "  libavdevice    58. 13.100 / 58. 13.100\n",
            "  libavfilter     7.110.100 /  7.110.100\n",
            "  libswscale      5.  9.100 /  5.  9.100\n",
            "  libswresample   3.  9.100 /  3.  9.100\n",
            "  libpostproc    55.  9.100 / 55.  9.100\n",
            "Input #0, mov,mp4,m4a,3gp,3g2,mj2, from 'deti.mp3':\n",
            "  Metadata:\n",
            "    major_brand     : isom\n",
            "    minor_version   : 512\n",
            "    compatible_brands: isomiso2mp41\n",
            "    encoder         : Lavf58.76.100\n",
            "  Duration: 00:01:08.11, start: 0.000000, bitrate: 129 kb/s\n",
            "  Stream #0:0(eng): Audio: aac (LC) (mp4a / 0x6134706D), 44100 Hz, stereo, fltp, 127 kb/s (default)\n",
            "    Metadata:\n",
            "      handler_name    : ISO Media file produced by Google Inc.\n",
            "      vendor_id       : [0][0][0][0]\n",
            "Stream mapping:\n",
            "  Stream #0:0 -> #0:0 (aac (native) -> pcm_s16le (native))\n",
            "Press [q] to stop, [?] for help\n",
            "Output #0, wav, to 'deti.wav':\n",
            "  Metadata:\n",
            "    major_brand     : isom\n",
            "    minor_version   : 512\n",
            "    compatible_brands: isomiso2mp41\n",
            "    ISFT            : Lavf58.76.100\n",
            "  Stream #0:0(eng): Audio: pcm_s16le ([1][0][0][0] / 0x0001), 44100 Hz, stereo, s16, 1411 kb/s (default)\n",
            "    Metadata:\n",
            "      handler_name    : ISO Media file produced by Google Inc.\n",
            "      vendor_id       : [0][0][0][0]\n",
            "      encoder         : Lavc58.134.100 pcm_s16le\n",
            "size=       4kB time=00:00:00.00 bitrate=N/A speed=N/A    \rsize=   11732kB time=00:01:08.08 bitrate=1411.7kbits/s speed= 446x    \n",
            "video:0kB audio:11732kB subtitle:0kB other streams:0kB global headers:0kB muxing overhead: 0.000649%\n"
          ]
        }
      ]
    },
    {
      "cell_type": "code",
      "source": [
        "rec = sr.Recognizer()\n",
        "AUDI = ('/content/deti.wav')\n",
        "with sr.AudioFile(AUDI) as source:\n",
        "  audio = rec.record(source)\n",
        "speech_sub = rec.recognize_google(audio, language=\"ru-RU\")"
      ],
      "metadata": {
        "id": "5nhxqemgHcz-"
      },
      "execution_count": 33,
      "outputs": []
    },
    {
      "cell_type": "code",
      "source": [
        "def WER_check(hyp):\n",
        "  ref = open('right_sub.txt', 'r')\n",
        "  # right_sub.txt - \"эталон\", созданный редактированием субтитров от vosk\n",
        "  for line in ref:\n",
        "    ref = \" \".join(ref)\n",
        "  err = wer(ref, hyp)\n",
        "  return err"
      ],
      "metadata": {
        "id": "LOAhzYo_V2Vu"
      },
      "execution_count": 6,
      "outputs": []
    },
    {
      "cell_type": "code",
      "source": [
        "WER_check(vosk_sub)"
      ],
      "metadata": {
        "colab": {
          "base_uri": "https://localhost:8080/",
          "height": 176
        },
        "id": "dmc5ODOEbGT9",
        "outputId": "9f93c8c3-e3f3-40e5-c5c3-4eab1cb528ce"
      },
      "execution_count": 38,
      "outputs": [
        {
          "output_type": "error",
          "ename": "NameError",
          "evalue": "name 'WER_check' is not defined",
          "traceback": [
            "\u001b[0;31m---------------------------------------------------------------------------\u001b[0m",
            "\u001b[0;31mNameError\u001b[0m                                 Traceback (most recent call last)",
            "\u001b[0;32m<ipython-input-38-12ab302b6131>\u001b[0m in \u001b[0;36m<cell line: 1>\u001b[0;34m()\u001b[0m\n\u001b[0;32m----> 1\u001b[0;31m \u001b[0mWER_check\u001b[0m\u001b[0;34m(\u001b[0m\u001b[0mvosk_sub\u001b[0m\u001b[0;34m)\u001b[0m\u001b[0;34m\u001b[0m\u001b[0;34m\u001b[0m\u001b[0m\n\u001b[0m",
            "\u001b[0;31mNameError\u001b[0m: name 'WER_check' is not defined"
          ]
        }
      ]
    },
    {
      "cell_type": "code",
      "source": [
        "WER_check(whisper_sub)"
      ],
      "metadata": {
        "id": "RbDw_T8CnZl8"
      },
      "execution_count": null,
      "outputs": []
    },
    {
      "cell_type": "code",
      "source": [
        "WER_check(speech_sub)"
      ],
      "metadata": {
        "id": "k00oN4vRCAHk"
      },
      "execution_count": null,
      "outputs": []
    },
    {
      "cell_type": "code",
      "source": [
        "WER_check(orig_sub)"
      ],
      "metadata": {
        "id": "d7nz7l8X7-1X"
      },
      "execution_count": null,
      "outputs": []
    }
  ]
}