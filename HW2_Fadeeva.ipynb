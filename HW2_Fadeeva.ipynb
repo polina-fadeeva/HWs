{
  "nbformat": 4,
  "nbformat_minor": 0,
  "metadata": {
    "colab": {
      "provenance": [],
      "authorship_tag": "ABX9TyNdr9xf7w5v20Y7rq06e8Xb"
    },
    "kernelspec": {
      "name": "python3",
      "display_name": "Python 3"
    },
    "language_info": {
      "name": "python"
    }
  },
  "cells": [
    {
      "cell_type": "code",
      "execution_count": null,
      "metadata": {
        "id": "ptAQauEyLWvS"
      },
      "outputs": [],
      "source": [
        "! pip install youtube-dl\n",
        "! pip install --upgrade --force-reinstall \"git+https://github.com/ytdl-org/youtube-dl.git\"\n",
        "! pip install git+https://github.com/openai/whisper.git\n",
        "! pip install jiwer\n",
        "from jiwer import wer\n",
        "! pip install vosk\n",
        "import whisper\n",
        "! pip install wget"
      ]
    },
    {
      "cell_type": "code",
      "source": [
        "! youtube-dl --sub-lang ru --write-auto-sub --sub-format txt --skip-download -o orig_sub https://www.youtube.com/watch?v=qG3AhP2FGeo\n",
        "! youtube-dl -x --audio-format mp3 -o deti.mp3 -- https://www.youtube.com/watch?v=qG3AhP2FGeo"
      ],
      "metadata": {
        "id": "G_NWRai2iSCA"
      },
      "execution_count": null,
      "outputs": []
    },
    {
      "cell_type": "code",
      "source": [
        "orig_sub = open('orig_sub.ru.vtt', 'r')\n",
        "orig_sub = orig_sub.readlines()\n",
        "orig_sub = orig_sub[13::8]\n",
        "orig_sub = \" \".join(orig_sub)\n",
        "orig_sub = orig_sub.replace('\\n', '')"
      ],
      "metadata": {
        "id": "GQQvUGnqu3S6"
      },
      "execution_count": 3,
      "outputs": []
    },
    {
      "cell_type": "code",
      "source": [
        "! wget https://alphacephei.com/vosk/models/vosk-model-ru-0.22.zip\n",
        "! unzip vosk-model-ru-0.22.zip\n",
        "! vosk-transcriber -i deti.mp3 -o vosk_sub.txt -m vosk-model-ru-0.22/"
      ],
      "metadata": {
        "id": "85VHGLf4I-or"
      },
      "execution_count": null,
      "outputs": []
    },
    {
      "cell_type": "code",
      "source": [
        "vosk_sub = open('vosk_sub.txt', 'r')\n",
        "for line in vosk_sub:\n",
        "  vosk_sub = \" \".join(vosk_sub)"
      ],
      "metadata": {
        "id": "TFzmLsCXVL-x"
      },
      "execution_count": 5,
      "outputs": []
    },
    {
      "cell_type": "code",
      "source": [
        "model = whisper.load_model(\"base\")\n",
        "result = model.transcribe(\"deti.mp3\")\n",
        "whisper_sub = result[\"text\"]"
      ],
      "metadata": {
        "id": "bqSnl2p_QD-9"
      },
      "execution_count": null,
      "outputs": []
    },
    {
      "cell_type": "code",
      "source": [
        "! pip install SpeechRecognition\n",
        "import speech_recognition as sr"
      ],
      "metadata": {
        "id": "PYlnGNYp_-t3"
      },
      "execution_count": null,
      "outputs": []
    },
    {
      "cell_type": "code",
      "source": [
        "! ffmpeg -i deti.mp3 deti.wav"
      ],
      "metadata": {
        "id": "Tq_dhZGiJP5A"
      },
      "execution_count": null,
      "outputs": []
    },
    {
      "cell_type": "code",
      "source": [
        "rec = sr.Recognizer()\n",
        "AUDI = ('/content/deti.wav')\n",
        "with sr.AudioFile(AUDI) as source:\n",
        "  audio = rec.record(source)\n",
        "speech_sub = rec.recognize_google(audio, language=\"ru-RU\")"
      ],
      "metadata": {
        "id": "5nhxqemgHcz-"
      },
      "execution_count": 9,
      "outputs": []
    },
    {
      "cell_type": "code",
      "source": [
        "def WER_check(hyp):\n",
        "  ref = open('right_sub.txt', 'r')\n",
        "  # right_sub.txt - \"эталон\" (отредактированный результат от vosk)\n",
        "  for line in ref:\n",
        "    ref = \" \".join(ref)\n",
        "  err = wer(ref, hyp)\n",
        "  return err"
      ],
      "metadata": {
        "id": "LOAhzYo_V2Vu"
      },
      "execution_count": 10,
      "outputs": []
    },
    {
      "cell_type": "code",
      "source": [
        "WER_check(vosk_sub)"
      ],
      "metadata": {
        "colab": {
          "base_uri": "https://localhost:8080/"
        },
        "id": "dmc5ODOEbGT9",
        "outputId": "977330fc-8d8f-4ee3-a8c3-a84f934e1636"
      },
      "execution_count": 11,
      "outputs": [
        {
          "output_type": "execute_result",
          "data": {
            "text/plain": [
              "0.06976744186046512"
            ]
          },
          "metadata": {},
          "execution_count": 11
        }
      ]
    },
    {
      "cell_type": "code",
      "source": [
        "WER_check(whisper_sub)"
      ],
      "metadata": {
        "colab": {
          "base_uri": "https://localhost:8080/"
        },
        "id": "RbDw_T8CnZl8",
        "outputId": "f90aa1bb-341a-46a9-9907-11251b8f115f"
      },
      "execution_count": 12,
      "outputs": [
        {
          "output_type": "execute_result",
          "data": {
            "text/plain": [
              "0.6046511627906976"
            ]
          },
          "metadata": {},
          "execution_count": 12
        }
      ]
    },
    {
      "cell_type": "code",
      "source": [
        "WER_check(speech_sub)"
      ],
      "metadata": {
        "colab": {
          "base_uri": "https://localhost:8080/"
        },
        "id": "k00oN4vRCAHk",
        "outputId": "c2a8064f-ef90-4911-d7bd-bd6bcd46d7e4"
      },
      "execution_count": 13,
      "outputs": [
        {
          "output_type": "execute_result",
          "data": {
            "text/plain": [
              "0.7984496124031008"
            ]
          },
          "metadata": {},
          "execution_count": 13
        }
      ]
    },
    {
      "cell_type": "code",
      "source": [
        "WER_check(orig_sub)"
      ],
      "metadata": {
        "id": "d7nz7l8X7-1X",
        "colab": {
          "base_uri": "https://localhost:8080/"
        },
        "outputId": "fe4cb080-0eb8-4fa1-de66-af329dccf9d8"
      },
      "execution_count": 14,
      "outputs": [
        {
          "output_type": "execute_result",
          "data": {
            "text/plain": [
              "0.4883720930232558"
            ]
          },
          "metadata": {},
          "execution_count": 14
        }
      ]
    }
  ]
}